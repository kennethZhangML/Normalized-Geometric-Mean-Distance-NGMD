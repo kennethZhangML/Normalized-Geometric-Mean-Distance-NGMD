{
 "cells": [
  {
   "cell_type": "code",
   "execution_count": 1,
   "metadata": {},
   "outputs": [
    {
     "name": "stdout",
     "output_type": "stream",
     "text": [
      "Normalized Geometric Mean Distance (NGMD): 0.482\n"
     ]
    }
   ],
   "source": [
    "from sklearn.cluster import KMeans\n",
    "from sklearn.datasets import make_blobs\n",
    "\n",
    "from NGMD import NGMD\n",
    "\n",
    "# Generate sample dataset\n",
    "X, y = make_blobs(n_samples=500, centers=5, random_state=42)\n",
    "\n",
    "# Initialize KMeans algorithm and fit the data\n",
    "kmeans = KMeans(n_clusters=5, random_state=42).fit(X)\n",
    "\n",
    "# Calculate NGMD metric\n",
    "ngmd = NGMD(X, kmeans.labels_).calculate()\n",
    "print(\"Normalized Geometric Mean Distance (NGMD): {:.3f}\".format(ngmd))\n"
   ]
  },
  {
   "cell_type": "code",
   "execution_count": null,
   "metadata": {},
   "outputs": [],
   "source": []
  }
 ],
 "metadata": {
  "kernelspec": {
   "display_name": "tensorflow",
   "language": "python",
   "name": "python3"
  },
  "language_info": {
   "codemirror_mode": {
    "name": "ipython",
    "version": 3
   },
   "file_extension": ".py",
   "mimetype": "text/x-python",
   "name": "python",
   "nbconvert_exporter": "python",
   "pygments_lexer": "ipython3",
   "version": "3.9.13"
  },
  "orig_nbformat": 4,
  "vscode": {
   "interpreter": {
    "hash": "4ab7cb50dc842f491bb894386664565dc76d57988689852f58e477cb82e81643"
   }
  }
 },
 "nbformat": 4,
 "nbformat_minor": 2
}
